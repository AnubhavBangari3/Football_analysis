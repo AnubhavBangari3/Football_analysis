{
 "cells": [
  {
   "cell_type": "code",
   "execution_count": 1,
   "metadata": {},
   "outputs": [
    {
     "name": "stdout",
     "output_type": "stream",
     "text": [
      "Requirement already satisfied: ultralytics in c:\\users\\anubh\\appdata\\local\\programs\\python\\python313\\scripts\\opencv practise\\env\\lib\\site-packages (8.3.49)\n",
      "Requirement already satisfied: numpy>=1.23.0 in c:\\users\\anubh\\appdata\\local\\programs\\python\\python313\\scripts\\opencv practise\\env\\lib\\site-packages (from ultralytics) (2.2.0)\n",
      "Requirement already satisfied: matplotlib>=3.3.0 in c:\\users\\anubh\\appdata\\local\\programs\\python\\python313\\scripts\\opencv practise\\env\\lib\\site-packages (from ultralytics) (3.10.0)\n",
      "Requirement already satisfied: opencv-python>=4.6.0 in c:\\users\\anubh\\appdata\\local\\programs\\python\\python313\\scripts\\opencv practise\\env\\lib\\site-packages (from ultralytics) (4.10.0.84)\n",
      "Requirement already satisfied: pillow>=7.1.2 in c:\\users\\anubh\\appdata\\local\\programs\\python\\python313\\scripts\\opencv practise\\env\\lib\\site-packages (from ultralytics) (11.0.0)\n",
      "Requirement already satisfied: pyyaml>=5.3.1 in c:\\users\\anubh\\appdata\\local\\programs\\python\\python313\\scripts\\opencv practise\\env\\lib\\site-packages (from ultralytics) (6.0.2)\n",
      "Requirement already satisfied: requests>=2.23.0 in c:\\users\\anubh\\appdata\\local\\programs\\python\\python313\\scripts\\opencv practise\\env\\lib\\site-packages (from ultralytics) (2.32.3)\n",
      "Requirement already satisfied: scipy>=1.4.1 in c:\\users\\anubh\\appdata\\local\\programs\\python\\python313\\scripts\\opencv practise\\env\\lib\\site-packages (from ultralytics) (1.14.1)\n",
      "Requirement already satisfied: torch>=1.8.0 in c:\\users\\anubh\\appdata\\local\\programs\\python\\python313\\scripts\\opencv practise\\env\\lib\\site-packages (from ultralytics) (2.5.1)\n",
      "Requirement already satisfied: torchvision>=0.9.0 in c:\\users\\anubh\\appdata\\local\\programs\\python\\python313\\scripts\\opencv practise\\env\\lib\\site-packages (from ultralytics) (0.20.1)\n",
      "Requirement already satisfied: tqdm>=4.64.0 in c:\\users\\anubh\\appdata\\local\\programs\\python\\python313\\scripts\\opencv practise\\env\\lib\\site-packages (from ultralytics) (4.67.1)\n",
      "Requirement already satisfied: psutil in c:\\users\\anubh\\appdata\\local\\programs\\python\\python313\\scripts\\opencv practise\\env\\lib\\site-packages (from ultralytics) (6.1.0)\n",
      "Requirement already satisfied: py-cpuinfo in c:\\users\\anubh\\appdata\\local\\programs\\python\\python313\\scripts\\opencv practise\\env\\lib\\site-packages (from ultralytics) (9.0.0)\n",
      "Requirement already satisfied: pandas>=1.1.4 in c:\\users\\anubh\\appdata\\local\\programs\\python\\python313\\scripts\\opencv practise\\env\\lib\\site-packages (from ultralytics) (2.2.3)\n",
      "Requirement already satisfied: seaborn>=0.11.0 in c:\\users\\anubh\\appdata\\local\\programs\\python\\python313\\scripts\\opencv practise\\env\\lib\\site-packages (from ultralytics) (0.13.2)\n",
      "Requirement already satisfied: ultralytics-thop>=2.0.0 in c:\\users\\anubh\\appdata\\local\\programs\\python\\python313\\scripts\\opencv practise\\env\\lib\\site-packages (from ultralytics) (2.0.13)\n",
      "Requirement already satisfied: contourpy>=1.0.1 in c:\\users\\anubh\\appdata\\local\\programs\\python\\python313\\scripts\\opencv practise\\env\\lib\\site-packages (from matplotlib>=3.3.0->ultralytics) (1.3.1)\n",
      "Requirement already satisfied: cycler>=0.10 in c:\\users\\anubh\\appdata\\local\\programs\\python\\python313\\scripts\\opencv practise\\env\\lib\\site-packages (from matplotlib>=3.3.0->ultralytics) (0.12.1)\n",
      "Requirement already satisfied: fonttools>=4.22.0 in c:\\users\\anubh\\appdata\\local\\programs\\python\\python313\\scripts\\opencv practise\\env\\lib\\site-packages (from matplotlib>=3.3.0->ultralytics) (4.55.3)\n",
      "Requirement already satisfied: kiwisolver>=1.3.1 in c:\\users\\anubh\\appdata\\local\\programs\\python\\python313\\scripts\\opencv practise\\env\\lib\\site-packages (from matplotlib>=3.3.0->ultralytics) (1.4.7)\n",
      "Requirement already satisfied: packaging>=20.0 in c:\\users\\anubh\\appdata\\local\\programs\\python\\python313\\scripts\\opencv practise\\env\\lib\\site-packages (from matplotlib>=3.3.0->ultralytics) (24.2)\n",
      "Requirement already satisfied: pyparsing>=2.3.1 in c:\\users\\anubh\\appdata\\local\\programs\\python\\python313\\scripts\\opencv practise\\env\\lib\\site-packages (from matplotlib>=3.3.0->ultralytics) (3.2.0)\n",
      "Requirement already satisfied: python-dateutil>=2.7 in c:\\users\\anubh\\appdata\\local\\programs\\python\\python313\\scripts\\opencv practise\\env\\lib\\site-packages (from matplotlib>=3.3.0->ultralytics) (2.9.0.post0)\n",
      "Requirement already satisfied: pytz>=2020.1 in c:\\users\\anubh\\appdata\\local\\programs\\python\\python313\\scripts\\opencv practise\\env\\lib\\site-packages (from pandas>=1.1.4->ultralytics) (2024.2)\n",
      "Requirement already satisfied: tzdata>=2022.7 in c:\\users\\anubh\\appdata\\local\\programs\\python\\python313\\scripts\\opencv practise\\env\\lib\\site-packages (from pandas>=1.1.4->ultralytics) (2024.2)\n",
      "Requirement already satisfied: charset-normalizer<4,>=2 in c:\\users\\anubh\\appdata\\local\\programs\\python\\python313\\scripts\\opencv practise\\env\\lib\\site-packages (from requests>=2.23.0->ultralytics) (3.4.0)\n",
      "Requirement already satisfied: idna<4,>=2.5 in c:\\users\\anubh\\appdata\\local\\programs\\python\\python313\\scripts\\opencv practise\\env\\lib\\site-packages (from requests>=2.23.0->ultralytics) (3.10)\n",
      "Requirement already satisfied: urllib3<3,>=1.21.1 in c:\\users\\anubh\\appdata\\local\\programs\\python\\python313\\scripts\\opencv practise\\env\\lib\\site-packages (from requests>=2.23.0->ultralytics) (2.2.3)\n",
      "Requirement already satisfied: certifi>=2017.4.17 in c:\\users\\anubh\\appdata\\local\\programs\\python\\python313\\scripts\\opencv practise\\env\\lib\\site-packages (from requests>=2.23.0->ultralytics) (2024.12.14)\n",
      "Requirement already satisfied: filelock in c:\\users\\anubh\\appdata\\local\\programs\\python\\python313\\scripts\\opencv practise\\env\\lib\\site-packages (from torch>=1.8.0->ultralytics) (3.16.1)\n",
      "Requirement already satisfied: typing-extensions>=4.8.0 in c:\\users\\anubh\\appdata\\local\\programs\\python\\python313\\scripts\\opencv practise\\env\\lib\\site-packages (from torch>=1.8.0->ultralytics) (4.12.2)\n",
      "Requirement already satisfied: networkx in c:\\users\\anubh\\appdata\\local\\programs\\python\\python313\\scripts\\opencv practise\\env\\lib\\site-packages (from torch>=1.8.0->ultralytics) (3.4.2)\n",
      "Requirement already satisfied: jinja2 in c:\\users\\anubh\\appdata\\local\\programs\\python\\python313\\scripts\\opencv practise\\env\\lib\\site-packages (from torch>=1.8.0->ultralytics) (3.1.4)\n",
      "Requirement already satisfied: fsspec in c:\\users\\anubh\\appdata\\local\\programs\\python\\python313\\scripts\\opencv practise\\env\\lib\\site-packages (from torch>=1.8.0->ultralytics) (2024.10.0)\n",
      "Requirement already satisfied: setuptools in c:\\users\\anubh\\appdata\\local\\programs\\python\\python313\\scripts\\opencv practise\\env\\lib\\site-packages (from torch>=1.8.0->ultralytics) (75.6.0)\n",
      "Requirement already satisfied: sympy==1.13.1 in c:\\users\\anubh\\appdata\\local\\programs\\python\\python313\\scripts\\opencv practise\\env\\lib\\site-packages (from torch>=1.8.0->ultralytics) (1.13.1)\n",
      "Requirement already satisfied: mpmath<1.4,>=1.1.0 in c:\\users\\anubh\\appdata\\local\\programs\\python\\python313\\scripts\\opencv practise\\env\\lib\\site-packages (from sympy==1.13.1->torch>=1.8.0->ultralytics) (1.3.0)\n",
      "Requirement already satisfied: colorama in c:\\users\\anubh\\appdata\\local\\programs\\python\\python313\\scripts\\opencv practise\\env\\lib\\site-packages (from tqdm>=4.64.0->ultralytics) (0.4.6)\n",
      "Requirement already satisfied: six>=1.5 in c:\\users\\anubh\\appdata\\local\\programs\\python\\python313\\scripts\\opencv practise\\env\\lib\\site-packages (from python-dateutil>=2.7->matplotlib>=3.3.0->ultralytics) (1.17.0)\n",
      "Requirement already satisfied: MarkupSafe>=2.0 in c:\\users\\anubh\\appdata\\local\\programs\\python\\python313\\scripts\\opencv practise\\env\\lib\\site-packages (from jinja2->torch>=1.8.0->ultralytics) (3.0.2)\n",
      "Collecting roboflow\n",
      "  Downloading roboflow-1.1.50-py3-none-any.whl.metadata (9.7 kB)\n",
      "Requirement already satisfied: certifi in c:\\users\\anubh\\appdata\\local\\programs\\python\\python313\\scripts\\opencv practise\\env\\lib\\site-packages (from roboflow) (2024.12.14)\n",
      "Collecting idna==3.7 (from roboflow)\n",
      "  Using cached idna-3.7-py3-none-any.whl.metadata (9.9 kB)\n",
      "Requirement already satisfied: cycler in c:\\users\\anubh\\appdata\\local\\programs\\python\\python313\\scripts\\opencv practise\\env\\lib\\site-packages (from roboflow) (0.12.1)\n",
      "Requirement already satisfied: kiwisolver>=1.3.1 in c:\\users\\anubh\\appdata\\local\\programs\\python\\python313\\scripts\\opencv practise\\env\\lib\\site-packages (from roboflow) (1.4.7)\n",
      "Requirement already satisfied: matplotlib in c:\\users\\anubh\\appdata\\local\\programs\\python\\python313\\scripts\\opencv practise\\env\\lib\\site-packages (from roboflow) (3.10.0)\n",
      "Requirement already satisfied: numpy>=1.18.5 in c:\\users\\anubh\\appdata\\local\\programs\\python\\python313\\scripts\\opencv practise\\env\\lib\\site-packages (from roboflow) (2.2.0)\n",
      "Collecting opencv-python-headless==4.10.0.84 (from roboflow)\n",
      "  Downloading opencv_python_headless-4.10.0.84-cp37-abi3-win_amd64.whl.metadata (20 kB)\n",
      "Requirement already satisfied: Pillow>=7.1.2 in c:\\users\\anubh\\appdata\\local\\programs\\python\\python313\\scripts\\opencv practise\\env\\lib\\site-packages (from roboflow) (11.0.0)\n",
      "Requirement already satisfied: python-dateutil in c:\\users\\anubh\\appdata\\local\\programs\\python\\python313\\scripts\\opencv practise\\env\\lib\\site-packages (from roboflow) (2.9.0.post0)\n",
      "Collecting python-dotenv (from roboflow)\n",
      "  Using cached python_dotenv-1.0.1-py3-none-any.whl.metadata (23 kB)\n",
      "Requirement already satisfied: requests in c:\\users\\anubh\\appdata\\local\\programs\\python\\python313\\scripts\\opencv practise\\env\\lib\\site-packages (from roboflow) (2.32.3)\n",
      "Requirement already satisfied: six in c:\\users\\anubh\\appdata\\local\\programs\\python\\python313\\scripts\\opencv practise\\env\\lib\\site-packages (from roboflow) (1.17.0)\n",
      "Requirement already satisfied: urllib3>=1.26.6 in c:\\users\\anubh\\appdata\\local\\programs\\python\\python313\\scripts\\opencv practise\\env\\lib\\site-packages (from roboflow) (2.2.3)\n",
      "Requirement already satisfied: tqdm>=4.41.0 in c:\\users\\anubh\\appdata\\local\\programs\\python\\python313\\scripts\\opencv practise\\env\\lib\\site-packages (from roboflow) (4.67.1)\n",
      "Requirement already satisfied: PyYAML>=5.3.1 in c:\\users\\anubh\\appdata\\local\\programs\\python\\python313\\scripts\\opencv practise\\env\\lib\\site-packages (from roboflow) (6.0.2)\n",
      "Collecting requests-toolbelt (from roboflow)\n",
      "  Downloading requests_toolbelt-1.0.0-py2.py3-none-any.whl.metadata (14 kB)\n",
      "Collecting filetype (from roboflow)\n",
      "  Downloading filetype-1.2.0-py2.py3-none-any.whl.metadata (6.5 kB)\n",
      "Requirement already satisfied: colorama in c:\\users\\anubh\\appdata\\local\\programs\\python\\python313\\scripts\\opencv practise\\env\\lib\\site-packages (from tqdm>=4.41.0->roboflow) (0.4.6)\n",
      "Requirement already satisfied: contourpy>=1.0.1 in c:\\users\\anubh\\appdata\\local\\programs\\python\\python313\\scripts\\opencv practise\\env\\lib\\site-packages (from matplotlib->roboflow) (1.3.1)\n",
      "Requirement already satisfied: fonttools>=4.22.0 in c:\\users\\anubh\\appdata\\local\\programs\\python\\python313\\scripts\\opencv practise\\env\\lib\\site-packages (from matplotlib->roboflow) (4.55.3)\n",
      "Requirement already satisfied: packaging>=20.0 in c:\\users\\anubh\\appdata\\local\\programs\\python\\python313\\scripts\\opencv practise\\env\\lib\\site-packages (from matplotlib->roboflow) (24.2)\n",
      "Requirement already satisfied: pyparsing>=2.3.1 in c:\\users\\anubh\\appdata\\local\\programs\\python\\python313\\scripts\\opencv practise\\env\\lib\\site-packages (from matplotlib->roboflow) (3.2.0)\n",
      "Requirement already satisfied: charset-normalizer<4,>=2 in c:\\users\\anubh\\appdata\\local\\programs\\python\\python313\\scripts\\opencv practise\\env\\lib\\site-packages (from requests->roboflow) (3.4.0)\n",
      "Downloading roboflow-1.1.50-py3-none-any.whl (81 kB)\n",
      "Using cached idna-3.7-py3-none-any.whl (66 kB)\n",
      "Downloading opencv_python_headless-4.10.0.84-cp37-abi3-win_amd64.whl (38.8 MB)\n",
      "   ---------------------------------------- 0.0/38.8 MB ? eta -:--:--\n",
      "   ------- -------------------------------- 7.1/38.8 MB 33.6 MB/s eta 0:00:01\n",
      "   --------------- ------------------------ 15.5/38.8 MB 37.4 MB/s eta 0:00:01\n",
      "   ---------------------- ----------------- 22.0/38.8 MB 34.8 MB/s eta 0:00:01\n",
      "   ------------------------- -------------- 24.4/38.8 MB 29.7 MB/s eta 0:00:01\n",
      "   ---------------------------- ----------- 27.3/38.8 MB 26.2 MB/s eta 0:00:01\n",
      "   ------------------------------ --------- 29.6/38.8 MB 23.5 MB/s eta 0:00:01\n",
      "   --------------------------------- ------ 32.5/38.8 MB 22.2 MB/s eta 0:00:01\n",
      "   ------------------------------------ --- 35.4/38.8 MB 20.8 MB/s eta 0:00:01\n",
      "   ---------------------------------------  38.3/38.8 MB 19.9 MB/s eta 0:00:01\n",
      "   ---------------------------------------- 38.8/38.8 MB 19.1 MB/s eta 0:00:00\n",
      "Downloading filetype-1.2.0-py2.py3-none-any.whl (19 kB)\n",
      "Using cached python_dotenv-1.0.1-py3-none-any.whl (19 kB)\n",
      "Downloading requests_toolbelt-1.0.0-py2.py3-none-any.whl (54 kB)\n",
      "Installing collected packages: filetype, python-dotenv, opencv-python-headless, idna, requests-toolbelt, roboflow\n",
      "  Attempting uninstall: idna\n",
      "    Found existing installation: idna 3.10\n",
      "    Uninstalling idna-3.10:\n",
      "      Successfully uninstalled idna-3.10\n",
      "Successfully installed filetype-1.2.0 idna-3.7 opencv-python-headless-4.10.0.84 python-dotenv-1.0.1 requests-toolbelt-1.0.0 roboflow-1.1.50\n"
     ]
    }
   ],
   "source": [
    "!pip install ultralytics\n",
    "!pip install roboflow"
   ]
  },
  {
   "cell_type": "markdown",
   "metadata": {},
   "source": [
    "Get Dataset"
   ]
  },
  {
   "cell_type": "code",
   "execution_count": 2,
   "metadata": {},
   "outputs": [
    {
     "name": "stdout",
     "output_type": "stream",
     "text": [
      "Requirement already satisfied: roboflow in c:\\users\\anubh\\appdata\\local\\programs\\python\\python313\\scripts\\opencv practise\\env\\lib\\site-packages (1.1.50)\n",
      "Requirement already satisfied: certifi in c:\\users\\anubh\\appdata\\local\\programs\\python\\python313\\scripts\\opencv practise\\env\\lib\\site-packages (from roboflow) (2024.12.14)\n",
      "Requirement already satisfied: idna==3.7 in c:\\users\\anubh\\appdata\\local\\programs\\python\\python313\\scripts\\opencv practise\\env\\lib\\site-packages (from roboflow) (3.7)\n",
      "Requirement already satisfied: cycler in c:\\users\\anubh\\appdata\\local\\programs\\python\\python313\\scripts\\opencv practise\\env\\lib\\site-packages (from roboflow) (0.12.1)\n",
      "Requirement already satisfied: kiwisolver>=1.3.1 in c:\\users\\anubh\\appdata\\local\\programs\\python\\python313\\scripts\\opencv practise\\env\\lib\\site-packages (from roboflow) (1.4.7)\n",
      "Requirement already satisfied: matplotlib in c:\\users\\anubh\\appdata\\local\\programs\\python\\python313\\scripts\\opencv practise\\env\\lib\\site-packages (from roboflow) (3.10.0)\n",
      "Requirement already satisfied: numpy>=1.18.5 in c:\\users\\anubh\\appdata\\local\\programs\\python\\python313\\scripts\\opencv practise\\env\\lib\\site-packages (from roboflow) (2.2.0)\n",
      "Requirement already satisfied: opencv-python-headless==4.10.0.84 in c:\\users\\anubh\\appdata\\local\\programs\\python\\python313\\scripts\\opencv practise\\env\\lib\\site-packages (from roboflow) (4.10.0.84)\n",
      "Requirement already satisfied: Pillow>=7.1.2 in c:\\users\\anubh\\appdata\\local\\programs\\python\\python313\\scripts\\opencv practise\\env\\lib\\site-packages (from roboflow) (11.0.0)\n",
      "Requirement already satisfied: python-dateutil in c:\\users\\anubh\\appdata\\local\\programs\\python\\python313\\scripts\\opencv practise\\env\\lib\\site-packages (from roboflow) (2.9.0.post0)\n",
      "Requirement already satisfied: python-dotenv in c:\\users\\anubh\\appdata\\local\\programs\\python\\python313\\scripts\\opencv practise\\env\\lib\\site-packages (from roboflow) (1.0.1)\n",
      "Requirement already satisfied: requests in c:\\users\\anubh\\appdata\\local\\programs\\python\\python313\\scripts\\opencv practise\\env\\lib\\site-packages (from roboflow) (2.32.3)\n",
      "Requirement already satisfied: six in c:\\users\\anubh\\appdata\\local\\programs\\python\\python313\\scripts\\opencv practise\\env\\lib\\site-packages (from roboflow) (1.17.0)\n",
      "Requirement already satisfied: urllib3>=1.26.6 in c:\\users\\anubh\\appdata\\local\\programs\\python\\python313\\scripts\\opencv practise\\env\\lib\\site-packages (from roboflow) (2.2.3)\n",
      "Requirement already satisfied: tqdm>=4.41.0 in c:\\users\\anubh\\appdata\\local\\programs\\python\\python313\\scripts\\opencv practise\\env\\lib\\site-packages (from roboflow) (4.67.1)\n",
      "Requirement already satisfied: PyYAML>=5.3.1 in c:\\users\\anubh\\appdata\\local\\programs\\python\\python313\\scripts\\opencv practise\\env\\lib\\site-packages (from roboflow) (6.0.2)\n",
      "Requirement already satisfied: requests-toolbelt in c:\\users\\anubh\\appdata\\local\\programs\\python\\python313\\scripts\\opencv practise\\env\\lib\\site-packages (from roboflow) (1.0.0)\n",
      "Requirement already satisfied: filetype in c:\\users\\anubh\\appdata\\local\\programs\\python\\python313\\scripts\\opencv practise\\env\\lib\\site-packages (from roboflow) (1.2.0)\n",
      "Requirement already satisfied: colorama in c:\\users\\anubh\\appdata\\local\\programs\\python\\python313\\scripts\\opencv practise\\env\\lib\\site-packages (from tqdm>=4.41.0->roboflow) (0.4.6)\n",
      "Requirement already satisfied: contourpy>=1.0.1 in c:\\users\\anubh\\appdata\\local\\programs\\python\\python313\\scripts\\opencv practise\\env\\lib\\site-packages (from matplotlib->roboflow) (1.3.1)\n",
      "Requirement already satisfied: fonttools>=4.22.0 in c:\\users\\anubh\\appdata\\local\\programs\\python\\python313\\scripts\\opencv practise\\env\\lib\\site-packages (from matplotlib->roboflow) (4.55.3)\n",
      "Requirement already satisfied: packaging>=20.0 in c:\\users\\anubh\\appdata\\local\\programs\\python\\python313\\scripts\\opencv practise\\env\\lib\\site-packages (from matplotlib->roboflow) (24.2)\n",
      "Requirement already satisfied: pyparsing>=2.3.1 in c:\\users\\anubh\\appdata\\local\\programs\\python\\python313\\scripts\\opencv practise\\env\\lib\\site-packages (from matplotlib->roboflow) (3.2.0)\n",
      "Requirement already satisfied: charset-normalizer<4,>=2 in c:\\users\\anubh\\appdata\\local\\programs\\python\\python313\\scripts\\opencv practise\\env\\lib\\site-packages (from requests->roboflow) (3.4.0)\n",
      "loading Roboflow workspace...\n",
      "loading Roboflow project...\n"
     ]
    },
    {
     "name": "stderr",
     "output_type": "stream",
     "text": [
      "Downloading Dataset Version Zip in football-players-detection-12 to yolov5pytorch:: 100%|██████████| 65763/65763 [00:07<00:00, 9190.21it/s] "
     ]
    },
    {
     "name": "stdout",
     "output_type": "stream",
     "text": [
      "\n"
     ]
    },
    {
     "name": "stderr",
     "output_type": "stream",
     "text": [
      "\n",
      "Extracting Dataset Version Zip to football-players-detection-12 in yolov5pytorch:: 100%|██████████| 756/756 [00:00<00:00, 1222.28it/s]\n"
     ]
    }
   ],
   "source": [
    "!pip install roboflow\n",
    "\n",
    "from roboflow import Roboflow\n",
    "rf = Roboflow(api_key=\"StGLl9mhFQlrynOxu1Qj\")\n",
    "project = rf.workspace(\"roboflow-jvuqo\").project(\"football-players-detection-3zvbc\")\n",
    "version = project.version(12)\n",
    "dataset = version.download(\"yolov5\")\n",
    "                "
   ]
  },
  {
   "cell_type": "code",
   "execution_count": 3,
   "metadata": {},
   "outputs": [
    {
     "data": {
      "text/plain": [
       "'c:\\\\Users\\\\anubh\\\\AppData\\\\Local\\\\Programs\\\\Python\\\\Python313\\\\Scripts\\\\OpenCV practise\\\\env\\\\Practise\\\\Training\\\\football-players-detection-12'"
      ]
     },
     "execution_count": 3,
     "metadata": {},
     "output_type": "execute_result"
    }
   ],
   "source": [
    "dataset.location"
   ]
  },
  {
   "cell_type": "code",
   "execution_count": 4,
   "metadata": {},
   "outputs": [
    {
     "data": {
      "text/plain": [
       "'football-players-detection-12/football-players-detection-12/valid'"
      ]
     },
     "execution_count": 4,
     "metadata": {},
     "output_type": "execute_result"
    }
   ],
   "source": [
    "import shutil\n",
    "\n",
    "shutil.move('football-players-detection-12/train','football-players-detection-12/football-players-detection-12/train')\n",
    "\n",
    "shutil.move('football-players-detection-12/test','football-players-detection-12/football-players-detection-12/test')\n",
    "\n",
    "shutil.move('football-players-detection-12/valid','football-players-detection-12/football-players-detection-12/valid')\n"
   ]
  },
  {
   "cell_type": "markdown",
   "metadata": {},
   "source": [
    "#Training"
   ]
  },
  {
   "cell_type": "code",
   "execution_count": 1,
   "metadata": {},
   "outputs": [
    {
     "name": "stdout",
     "output_type": "stream",
     "text": [
      "PRO TIP 💡 Replace 'model=yolov5x.pt' with new 'model=yolov5xu.pt'.\n",
      "YOLOv5 'u' models are trained with https://github.com/ultralytics/ultralytics and feature improved performance vs standard YOLOv5 models trained with https://github.com/ultralytics/yolov5.\n",
      "\n",
      "Downloading https://github.com/ultralytics/assets/releases/download/v8.3.0/yolov5xu.pt to 'yolov5xu.pt'...\n",
      "Ultralytics 8.3.49 🚀 Python-3.12.6 torch-2.5.1+cpu CPU (AMD Ryzen 7 7840HS w/ Radeon 780M Graphics)\n",
      "\u001b[34m\u001b[1mengine\\trainer: \u001b[0mtask=detect, mode=train, model=yolov5x.pt, data={dataset.location}\\data.yaml, epochs=100, time=None, patience=100, batch=16, imgsz=640, save=True, save_period=-1, cache=False, device=None, workers=8, project=None, name=train, exist_ok=False, pretrained=True, optimizer=auto, verbose=True, seed=0, deterministic=True, single_cls=False, rect=False, cos_lr=False, close_mosaic=10, resume=False, amp=True, fraction=1.0, profile=False, freeze=None, multi_scale=False, overlap_mask=True, mask_ratio=4, dropout=0.0, val=True, split=val, save_json=False, save_hybrid=False, conf=None, iou=0.7, max_det=300, half=False, dnn=False, plots=True, source=None, vid_stride=1, stream_buffer=False, visualize=False, augment=False, agnostic_nms=False, classes=None, retina_masks=False, embed=None, show=False, save_frames=False, save_txt=False, save_conf=False, save_crop=False, show_labels=True, show_conf=True, show_boxes=True, line_width=None, format=torchscript, keras=False, optimize=False, int8=False, dynamic=False, simplify=True, opset=None, workspace=None, nms=False, lr0=0.01, lrf=0.01, momentum=0.937, weight_decay=0.0005, warmup_epochs=3.0, warmup_momentum=0.8, warmup_bias_lr=0.1, box=7.5, cls=0.5, dfl=1.5, pose=12.0, kobj=1.0, nbs=64, hsv_h=0.015, hsv_s=0.7, hsv_v=0.4, degrees=0.0, translate=0.1, scale=0.5, shear=0.0, perspective=0.0, flipud=0.0, fliplr=0.5, bgr=0.0, mosaic=1.0, mixup=0.0, copy_paste=0.0, copy_paste_mode=flip, auto_augment=randaugment, erasing=0.4, crop_fraction=1.0, cfg=None, tracker=botsort.yaml, save_dir=runs\\detect\\train\n"
     ]
    },
    {
     "name": "stderr",
     "output_type": "stream",
     "text": [
      "\n",
      "  0%|          | 0.00/186M [00:00<?, ?B/s]\n",
      "  1%|          | 1.88M/186M [00:00<00:09, 19.6MB/s]\n",
      "  2%|▏         | 3.75M/186M [00:00<00:09, 19.5MB/s]\n",
      "  3%|▎         | 5.88M/186M [00:00<00:09, 20.3MB/s]\n",
      "  5%|▍         | 8.38M/186M [00:00<00:08, 22.5MB/s]\n",
      "  6%|▌         | 10.6M/186M [00:00<00:13, 13.9MB/s]\n",
      "  7%|▋         | 12.8M/186M [00:00<00:11, 15.8MB/s]\n",
      "  8%|▊         | 15.4M/186M [00:00<00:09, 18.7MB/s]\n",
      " 10%|▉         | 18.0M/186M [00:00<00:08, 21.0MB/s]\n",
      " 11%|█         | 20.2M/186M [00:01<00:11, 14.5MB/s]\n",
      " 12%|█▏        | 22.9M/186M [00:01<00:09, 17.2MB/s]\n",
      " 14%|█▍        | 25.9M/186M [00:01<00:08, 20.3MB/s]\n",
      " 16%|█▌        | 29.0M/186M [00:01<00:07, 23.3MB/s]\n",
      " 17%|█▋        | 31.6M/186M [00:01<00:10, 16.0MB/s]\n",
      " 18%|█▊        | 33.8M/186M [00:01<00:09, 17.2MB/s]\n",
      " 20%|█▉        | 36.9M/186M [00:02<00:07, 20.4MB/s]\n",
      " 21%|██        | 39.5M/186M [00:02<00:07, 21.8MB/s]\n",
      " 23%|██▎       | 42.0M/186M [00:02<00:10, 14.1MB/s]\n",
      " 24%|██▎       | 44.0M/186M [00:02<00:11, 12.5MB/s]\n",
      " 25%|██▍       | 45.6M/186M [00:02<00:11, 13.0MB/s]\n",
      " 26%|██▌       | 47.5M/186M [00:02<00:10, 14.0MB/s]\n",
      " 26%|██▋       | 49.1M/186M [00:03<00:10, 14.2MB/s]\n",
      " 27%|██▋       | 50.8M/186M [00:03<00:15, 9.30MB/s]\n",
      " 29%|██▉       | 53.9M/186M [00:03<00:10, 13.3MB/s]\n",
      " 30%|██▉       | 55.8M/186M [00:03<00:11, 12.2MB/s]\n",
      " 31%|███▏      | 58.2M/186M [00:03<00:11, 12.1MB/s]\n",
      " 32%|███▏      | 60.1M/186M [00:04<00:13, 9.61MB/s]\n",
      " 34%|███▍      | 63.1M/186M [00:04<00:09, 13.0MB/s]\n",
      " 35%|███▌      | 65.8M/186M [00:04<00:08, 15.5MB/s]\n",
      " 36%|███▋      | 67.8M/186M [00:04<00:07, 16.2MB/s]\n",
      " 37%|███▋      | 69.8M/186M [00:04<00:08, 15.0MB/s]\n",
      " 38%|███▊      | 71.5M/186M [00:05<00:10, 11.9MB/s]\n",
      " 39%|███▉      | 73.0M/186M [00:05<00:09, 12.3MB/s]\n",
      " 40%|████      | 74.5M/186M [00:05<00:09, 13.0MB/s]\n",
      " 41%|████      | 76.2M/186M [00:05<00:08, 14.1MB/s]\n",
      " 42%|████▏     | 77.9M/186M [00:05<00:07, 14.8MB/s]\n",
      " 43%|████▎     | 79.5M/186M [00:05<00:07, 14.0MB/s]\n",
      " 44%|████▎     | 81.0M/186M [00:05<00:08, 13.1MB/s]\n",
      " 44%|████▍     | 82.4M/186M [00:05<00:08, 12.7MB/s]\n",
      " 45%|████▌     | 83.8M/186M [00:05<00:08, 12.9MB/s]\n",
      " 46%|████▌     | 85.2M/186M [00:06<00:07, 13.4MB/s]\n",
      " 47%|████▋     | 86.6M/186M [00:06<00:08, 12.5MB/s]\n",
      " 47%|████▋     | 87.9M/186M [00:06<00:08, 12.4MB/s]\n",
      " 48%|████▊     | 89.2M/186M [00:06<00:08, 12.7MB/s]\n",
      " 49%|████▊     | 90.5M/186M [00:06<00:10, 9.59MB/s]\n",
      " 49%|████▉     | 91.6M/186M [00:06<00:10, 9.01MB/s]\n",
      " 50%|████▉     | 92.6M/186M [00:07<00:23, 4.24MB/s]\n",
      " 51%|█████     | 94.1M/186M [00:07<00:19, 4.88MB/s]\n",
      " 51%|█████▏    | 95.8M/186M [00:07<00:14, 6.49MB/s]\n",
      " 52%|█████▏    | 97.4M/186M [00:07<00:11, 8.01MB/s]\n",
      " 53%|█████▎    | 98.8M/186M [00:07<00:10, 9.12MB/s]\n",
      " 54%|█████▍    | 100M/186M [00:08<00:14, 6.32MB/s] \n",
      " 54%|█████▍    | 101M/186M [00:08<00:21, 4.23MB/s]\n",
      " 55%|█████▍    | 102M/186M [00:09<00:20, 4.25MB/s]\n",
      " 55%|█████▌    | 102M/186M [00:09<00:19, 4.50MB/s]\n",
      " 56%|█████▌    | 103M/186M [00:09<00:16, 5.21MB/s]\n",
      " 56%|█████▌    | 104M/186M [00:09<00:13, 6.18MB/s]\n",
      " 57%|█████▋    | 106M/186M [00:09<00:10, 7.78MB/s]\n",
      " 58%|█████▊    | 108M/186M [00:09<00:07, 10.4MB/s]\n",
      " 59%|█████▊    | 109M/186M [00:09<00:07, 10.9MB/s]\n",
      " 59%|█████▉    | 110M/186M [00:10<00:11, 6.90MB/s]\n",
      " 60%|██████    | 112M/186M [00:10<00:08, 9.17MB/s]\n",
      " 61%|██████▏   | 114M/186M [00:10<00:06, 12.3MB/s]\n",
      " 63%|██████▎   | 116M/186M [00:10<00:05, 14.2MB/s]\n",
      " 64%|██████▎   | 119M/186M [00:10<00:04, 16.0MB/s]\n",
      " 65%|██████▍   | 120M/186M [00:10<00:05, 11.9MB/s]\n",
      " 66%|██████▌   | 123M/186M [00:10<00:04, 14.8MB/s]\n",
      " 67%|██████▋   | 125M/186M [00:10<00:03, 17.0MB/s]\n",
      " 69%|██████▊   | 128M/186M [00:11<00:03, 18.7MB/s]\n",
      " 70%|██████▉   | 130M/186M [00:11<00:04, 14.1MB/s]\n",
      " 71%|███████▏  | 133M/186M [00:11<00:03, 16.4MB/s]\n",
      " 73%|███████▎  | 135M/186M [00:11<00:02, 18.9MB/s]\n",
      " 74%|███████▍  | 138M/186M [00:11<00:02, 21.2MB/s]\n",
      " 75%|███████▌  | 140M/186M [00:11<00:03, 15.3MB/s]\n",
      " 77%|███████▋  | 143M/186M [00:12<00:02, 18.0MB/s]\n",
      " 78%|███████▊  | 146M/186M [00:12<00:02, 19.5MB/s]\n",
      " 80%|███████▉  | 148M/186M [00:12<00:01, 21.3MB/s]\n",
      " 81%|████████  | 151M/186M [00:12<00:02, 15.4MB/s]\n",
      " 82%|████████▏ | 153M/186M [00:12<00:02, 16.9MB/s]\n",
      " 83%|████████▎ | 155M/186M [00:12<00:01, 18.3MB/s]\n",
      " 85%|████████▍ | 158M/186M [00:12<00:01, 16.3MB/s]\n",
      " 86%|████████▌ | 159M/186M [00:13<00:01, 15.1MB/s]\n",
      " 87%|████████▋ | 161M/186M [00:13<00:01, 14.4MB/s]\n",
      " 87%|████████▋ | 162M/186M [00:13<00:01, 14.3MB/s]\n",
      " 88%|████████▊ | 164M/186M [00:13<00:01, 13.7MB/s]\n",
      " 89%|████████▉ | 165M/186M [00:13<00:01, 13.6MB/s]\n",
      " 90%|████████▉ | 167M/186M [00:13<00:01, 13.2MB/s]\n",
      " 90%|█████████ | 168M/186M [00:13<00:01, 13.1MB/s]\n",
      " 91%|█████████ | 170M/186M [00:13<00:01, 13.4MB/s]\n",
      " 92%|█████████▏| 171M/186M [00:14<00:01, 9.42MB/s]\n",
      " 92%|█████████▏| 172M/186M [00:14<00:01, 9.69MB/s]\n",
      " 93%|█████████▎| 173M/186M [00:14<00:01, 10.0MB/s]\n",
      " 94%|█████████▎| 174M/186M [00:14<00:01, 10.2MB/s]\n",
      " 94%|█████████▍| 176M/186M [00:14<00:00, 11.1MB/s]\n",
      " 95%|█████████▌| 177M/186M [00:14<00:00, 12.1MB/s]\n",
      " 96%|█████████▌| 179M/186M [00:14<00:00, 13.4MB/s]\n",
      " 97%|█████████▋| 180M/186M [00:14<00:00, 11.9MB/s]\n",
      " 98%|█████████▊| 182M/186M [00:15<00:00, 13.2MB/s]\n",
      " 99%|█████████▊| 184M/186M [00:15<00:00, 14.6MB/s]\n",
      "100%|█████████▉| 186M/186M [00:15<00:00, 16.1MB/s]\n",
      "100%|██████████| 186M/186M [00:15<00:00, 12.8MB/s]\n",
      "Traceback (most recent call last):\n",
      "  File \"C:\\Users\\anubh\\AppData\\Local\\Programs\\Python\\Python313\\Scripts\\OpenCV practise\\env\\Lib\\site-packages\\ultralytics\\engine\\trainer.py\", line 562, in get_dataset\n",
      "    data = check_det_dataset(self.args.data)\n",
      "           ^^^^^^^^^^^^^^^^^^^^^^^^^^^^^^^^^\n",
      "  File \"C:\\Users\\anubh\\AppData\\Local\\Programs\\Python\\Python313\\Scripts\\OpenCV practise\\env\\Lib\\site-packages\\ultralytics\\data\\utils.py\", line 269, in check_det_dataset\n",
      "    file = check_file(dataset)\n",
      "           ^^^^^^^^^^^^^^^^^^^\n",
      "  File \"C:\\Users\\anubh\\AppData\\Local\\Programs\\Python\\Python313\\Scripts\\OpenCV practise\\env\\Lib\\site-packages\\ultralytics\\utils\\checks.py\", line 521, in check_file\n",
      "    raise FileNotFoundError(f\"'{file}' does not exist\")\n",
      "FileNotFoundError: '{dataset.location}\\data.yaml' does not exist\n",
      "\n",
      "The above exception was the direct cause of the following exception:\n",
      "\n",
      "Traceback (most recent call last):\n",
      "  File \"<frozen runpy>\", line 198, in _run_module_as_main\n",
      "  File \"<frozen runpy>\", line 88, in _run_code\n",
      "  File \"c:\\Users\\anubh\\AppData\\Local\\Programs\\Python\\Python313\\Scripts\\OpenCV practise\\env\\Scripts\\yolo.exe\\__main__.py\", line 7, in <module>\n",
      "  File \"C:\\Users\\anubh\\AppData\\Local\\Programs\\Python\\Python313\\Scripts\\OpenCV practise\\env\\Lib\\site-packages\\ultralytics\\cfg\\__init__.py\", line 972, in entrypoint\n",
      "    getattr(model, mode)(**overrides)  # default args from model\n",
      "    ^^^^^^^^^^^^^^^^^^^^^^^^^^^^^^^^^\n",
      "  File \"C:\\Users\\anubh\\AppData\\Local\\Programs\\Python\\Python313\\Scripts\\OpenCV practise\\env\\Lib\\site-packages\\ultralytics\\engine\\model.py\", line 800, in train\n",
      "    self.trainer = (trainer or self._smart_load(\"trainer\"))(overrides=args, _callbacks=self.callbacks)\n",
      "                   ^^^^^^^^^^^^^^^^^^^^^^^^^^^^^^^^^^^^^^^^^^^^^^^^^^^^^^^^^^^^^^^^^^^^^^^^^^^^^^^^^^^\n",
      "  File \"C:\\Users\\anubh\\AppData\\Local\\Programs\\Python\\Python313\\Scripts\\OpenCV practise\\env\\Lib\\site-packages\\ultralytics\\engine\\trainer.py\", line 133, in __init__\n",
      "    self.trainset, self.testset = self.get_dataset()\n",
      "                                  ^^^^^^^^^^^^^^^^^^\n",
      "  File \"C:\\Users\\anubh\\AppData\\Local\\Programs\\Python\\Python313\\Scripts\\OpenCV practise\\env\\Lib\\site-packages\\ultralytics\\engine\\trainer.py\", line 566, in get_dataset\n",
      "    raise RuntimeError(emojis(f\"Dataset '{clean_url(self.args.data)}' error ❌ {e}\")) from e\n",
      "RuntimeError: Dataset '{dataset.location}/data.yaml' error  '{dataset.location}\\data.yaml' does not exist\n"
     ]
    }
   ],
   "source": [
    "!yolo task=detect mode=train model=yolov5x.pt data={dataset.location}\\data.yaml epochs=100 imgsz=640"
   ]
  },
  {
   "cell_type": "code",
   "execution_count": null,
   "metadata": {},
   "outputs": [],
   "source": []
  }
 ],
 "metadata": {
  "kernelspec": {
   "display_name": "env",
   "language": "python",
   "name": "python3"
  },
  "language_info": {
   "codemirror_mode": {
    "name": "ipython",
    "version": 3
   },
   "file_extension": ".py",
   "mimetype": "text/x-python",
   "name": "python",
   "nbconvert_exporter": "python",
   "pygments_lexer": "ipython3",
   "version": "3.12.6"
  }
 },
 "nbformat": 4,
 "nbformat_minor": 2
}
